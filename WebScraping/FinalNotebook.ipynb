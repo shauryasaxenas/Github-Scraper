{
 "cells": [
  {
   "cell_type": "code",
   "execution_count": null,
   "id": "8ff4a42c-4bad-4e36-b437-920906e23082",
   "metadata": {},
   "outputs": [],
   "source": [
    "!pip install requests --upgrade --quiet"
   ]
  },
  {
   "cell_type": "code",
   "execution_count": null,
   "id": "fae78c50-8f52-44b8-82ef-6188894543e4",
   "metadata": {},
   "outputs": [],
   "source": [
    "import requests"
   ]
  },
  {
   "cell_type": "code",
   "execution_count": null,
   "id": "2081d94b-8de3-4394-bdec-53b4b2620cdb",
   "metadata": {},
   "outputs": [],
   "source": [
    "topics_url = 'https://github.com/topics'"
   ]
  },
  {
   "cell_type": "code",
   "execution_count": null,
   "id": "9f802703-9083-4389-848d-6af25616fc8a",
   "metadata": {},
   "outputs": [],
   "source": [
    "response = requests.get(topics_url)"
   ]
  },
  {
   "cell_type": "code",
   "execution_count": null,
   "id": "7e40771f-9a1e-404f-a630-08991a75678f",
   "metadata": {},
   "outputs": [],
   "source": [
    "response.status_code #200 response code means status GOOD\n",
    "                     #404 response code means status BAD (client side error)"
   ]
  },
  {
   "cell_type": "code",
   "execution_count": null,
   "id": "9d9847bb-f9ea-41c6-8a7f-f2715afaec3e",
   "metadata": {},
   "outputs": [],
   "source": []
  }
 ],
 "metadata": {
  "kernelspec": {
   "display_name": "Python 3 (ipykernel)",
   "language": "python",
   "name": "python3"
  },
  "language_info": {
   "name": ""
  }
 },
 "nbformat": 4,
 "nbformat_minor": 5
}
